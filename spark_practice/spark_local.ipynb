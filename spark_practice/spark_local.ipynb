{
 "cells": [
  {
   "cell_type": "code",
   "execution_count": 1,
   "metadata": {},
   "outputs": [
    {
     "data": {
      "text/plain": [
       "Array(absl-py==0.7.0, aliyun-python-sdk-core-v3==2.13.3, aliyun-python-sdk-kms==2.5.0, astor==0.7.1, backcall==0.1.0, bleach==3.1.0, boto==2.49.0, boto3==1.9.168, botocore==1.12.168, certifi==2018.11.29, chardet==3.0.4, crcmod==1.7, cycler==0.10.0, cymem==2.0.2, cytoolz==0.9.0.1, decorator==4.3.0, defusedxml==0.5.0, dill==0.2.9, docutils==0.14, en-core-web-sm==2.0.0, entrypoints==0.3, future==0.17.1, gast==0.2.2, gensim==3.7.3, graphviz==0.10.1, grpcio==1.18.0, gym==0.12.1, h5py==2.9.0, idna==2.8, ipykernel==5.1.0, ipython==7.2.0, ipython-genutils==0.2.0, ipywidgets==7.4.2, jedi==0.13.2, jieba==0.39, Jinja2==2.10, jmespath==0.9.4, jsonschema==2.6.0, jupyter==1.0.0, jupyter-client==5.2.4, jupyter-console==6.0.0, jupyter-contrib-core==0.3.3, jupyter-contrib-nbextensi..."
      ]
     },
     "execution_count": 1,
     "metadata": {},
     "output_type": "execute_result"
    }
   ],
   "source": [
    "sc.textFile(\"../requirments.txt\").collect"
   ]
  },
  {
   "cell_type": "code",
   "execution_count": 2,
   "metadata": {},
   "outputs": [
    {
     "name": "stdout",
     "output_type": "stream",
     "text": [
      "+------------+\n",
      "|databaseName|\n",
      "+------------+\n",
      "|     default|\n",
      "+------------+\n",
      "\n"
     ]
    }
   ],
   "source": [
    "spark.sql(\"show databases\").show"
   ]
  },
  {
   "cell_type": "code",
   "execution_count": null,
   "metadata": {},
   "outputs": [],
   "source": []
  }
 ],
 "metadata": {
  "kernelspec": {
   "display_name": "Spark2.1.3_local - Scala",
   "language": "scala",
   "name": "spark2.1.3_local_scala"
  },
  "language_info": {
   "codemirror_mode": "text/x-scala",
   "file_extension": ".scala",
   "mimetype": "text/x-scala",
   "name": "scala",
   "pygments_lexer": "scala",
   "version": "2.11.12"
  },
  "toc": {
   "base_numbering": 1,
   "nav_menu": {},
   "number_sections": true,
   "sideBar": true,
   "skip_h1_title": false,
   "title_cell": "Table of Contents",
   "title_sidebar": "Contents",
   "toc_cell": false,
   "toc_position": {},
   "toc_section_display": true,
   "toc_window_display": false
  }
 },
 "nbformat": 4,
 "nbformat_minor": 2
}
